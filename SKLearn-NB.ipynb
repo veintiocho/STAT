{
 "cells": [
  {
   "cell_type": "code",
   "execution_count": 1,
   "metadata": {},
   "outputs": [],
   "source": [
    "import pandas as pd\n",
    "import numpy as np\n",
    "import matplotlib.pyplot as plt\n",
    "from sklearn import metrics"
   ]
  },
  {
   "cell_type": "code",
   "execution_count": 2,
   "metadata": {},
   "outputs": [
    {
     "name": "stdout",
     "output_type": "stream",
     "text": [
      "7800 7800\n"
     ]
    }
   ],
   "source": [
    "file = pd.read_csv('all/train.csv')\n",
    "#we are including the two index from our dataset and finding the corelation between them.\n",
    "\n",
    "X = file.iloc[:,1:-1].values\n",
    "y= file.iloc[:,-1].values\n",
    "\n",
    "print(len(X), len(y))"
   ]
  },
  {
   "cell_type": "code",
   "execution_count": 3,
   "metadata": {},
   "outputs": [
    {
     "name": "stdout",
     "output_type": "stream",
     "text": [
      "21.1215114594 0.0\n"
     ]
    }
   ],
   "source": [
    "from sklearn.model_selection import train_test_split\n",
    "\n",
    "x_train, x_test, y_train, y_test = train_test_split(X,y, test_size = 0.2, random_state=0)\n",
    "\n",
    "print(x_train.max(),x_train.min())"
   ]
  },
  {
   "cell_type": "code",
   "execution_count": 4,
   "metadata": {},
   "outputs": [],
   "source": [
    "from sklearn import naive_bayes\n",
    "model_Gaussian = naive_bayes.GaussianNB()\n",
    "model_Multinomial = naive_bayes.MultinomialNB(alpha=1.0, fit_prior=True, class_prior=None)\n",
    "model_Bernoulli = naive_bayes.BernoulliNB(alpha=1.0, binarize=0.0, fit_prior=True, class_prior=None)"
   ]
  },
  {
   "cell_type": "code",
   "execution_count": 5,
   "metadata": {},
   "outputs": [
    {
     "data": {
      "text/plain": [
       "BernoulliNB(alpha=1.0, binarize=0.0, class_prior=None, fit_prior=True)"
      ]
     },
     "execution_count": 5,
     "metadata": {},
     "output_type": "execute_result"
    }
   ],
   "source": [
    "model_Gaussian.fit(x_train, y_train)\n",
    "model_Multinomial.fit(x_train, y_train)\n",
    "model_Bernoulli.fit(x_train, y_train)"
   ]
  },
  {
   "cell_type": "code",
   "execution_count": 6,
   "metadata": {},
   "outputs": [
    {
     "data": {
      "image/png": "[encoded data removed]",
      "text/plain": [
       "<Figure size 432x288 with 1 Axes>"
      ]
     },
     "metadata": {
      "needs_background": "light"
     },
     "output_type": "display_data"
    }
   ],
   "source": [
    "y_pred_Gaussian = model_Gaussian.predict(x_test)\n",
    "y_pred_Multinomial = model_Multinomial.predict(x_test)\n",
    "y_pred_Bernoulli = model_Bernoulli.predict(x_test)\n",
    "\n",
    "\n",
    "from sklearn.metrics import confusion_matrix\n",
    "\n",
    "\n",
    "conf_matrix_Gaussian = confusion_matrix(y_test, y_pred_Gaussian)\n",
    "conf_matrix_Multinomial = confusion_matrix(y_test, y_pred_Multinomial)\n",
    "conf_matrix_Bernoulli = confusion_matrix(y_test, y_pred_Bernoulli)\n",
    "# print(conf_matrix_Gaussian)\n",
    " \n",
    "plt.imshow(conf_matrix_Gaussian)\n",
    "plt.title('Visulize-Gaussian')\n",
    "plt.xlabel('CLASS')\n",
    "plt.ylabel('Estimated Salary')\n",
    "\n",
    "plt.imshow(conf_matrix_Multinomial)\n",
    "plt.title('Visulize-Multinomial')\n",
    "plt.xlabel('CLASS')\n",
    "plt.ylabel('Estimated Salary')\n",
    "\n",
    "plt.imshow(conf_matrix_Bernoulli)\n",
    "plt.title('Visulize-Bernoulli')\n",
    "plt.xlabel('CLASS')\n",
    "plt.ylabel('Estimated Salary')\n",
    "plt.show()"
   ]
  },
  {
   "cell_type": "code",
   "execution_count": 7,
   "metadata": {},
   "outputs": [
    {
     "name": "stdout",
     "output_type": "stream",
     "text": [
      "\n",
      " accuracy of the GaussianNB is: 91.85897435897435\n",
      "\n",
      " accuracy of the MultinomialNB is: 97.75641025641025\n",
      "\n",
      " accuracy of the BernoulliNB is: 97.75641025641025\n",
      "\n",
      "\n",
      " Done :)\n"
     ]
    }
   ],
   "source": [
    "from sklearn.metrics import accuracy_score\n",
    "accuracy_Gaussian = accuracy_score(y_test,y_pred_Gaussian)\n",
    "accuracy_Gaussian = accuracy_Gaussian*100\n",
    "accuracy_Multinomial = accuracy_score(y_test,y_pred_Multinomial)\n",
    "accuracy_Multinomial = accuracy_Multinomial*100\n",
    "accuracy_Bernoulli = accuracy_score(y_test,y_pred_Bernoulli)\n",
    "accuracy_Bernoulli= accuracy_Bernoulli*100\n",
    "print('\\n accuracy of the GaussianNB is:',accuracy_Gaussian)\n",
    "print('\\n accuracy of the MultinomialNB is:',accuracy_Multinomial)\n",
    "print('\\n accuracy of the BernoulliNB is:',accuracy_Bernoulli)\n",
    "print('\\n\\n Done :)')"
   ]
  },
  {
   "cell_type": "code",
   "execution_count": null,
   "metadata": {},
   "outputs": [],
   "source": []
  }
 ],
 "metadata": {
  "kernelspec": {
   "display_name": "Python [conda env:unet]",
   "language": "python",
   "name": "conda-env-unet-py"
  },
  "language_info": {
   "codemirror_mode": {
    "name": "ipython",
    "version": 3
   },
   "file_extension": ".py",
   "mimetype": "text/x-python",
   "name": "python",
   "nbconvert_exporter": "python",
   "pygments_lexer": "ipython3",
   "version": "3.6.3"
  }
 },
 "nbformat": 4,
 "nbformat_minor": 2
}
