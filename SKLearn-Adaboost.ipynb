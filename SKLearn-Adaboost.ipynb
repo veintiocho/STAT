{
 "cells": [
  {
   "cell_type": "code",
   "execution_count": 1,
   "metadata": {},
   "outputs": [],
   "source": [
    "import pandas as pd\n",
    "import numpy as np\n",
    "import matplotlib.pyplot as plt\n",
    "from sklearn import metrics"
   ]
  },
  {
   "cell_type": "markdown",
   "metadata": {},
   "source": [
    "### Load data"
   ]
  },
  {
   "cell_type": "code",
   "execution_count": 2,
   "metadata": {},
   "outputs": [
    {
     "name": "stdout",
     "output_type": "stream",
     "text": [
      "7800 7800\n"
     ]
    }
   ],
   "source": [
    "file = pd.read_csv('all/train.csv')\n",
    "#we are including the two index from our dataset and finding the corelation between them.\n",
    "\n",
    "X = file.iloc[:,1:-1].values\n",
    "y= file.iloc[:,-1].values\n",
    "\n",
    "print(len(X), len(y))"
   ]
  },
  {
   "cell_type": "markdown",
   "metadata": {},
   "source": [
    "### Split dataset & Preprocess"
   ]
  },
  {
   "cell_type": "code",
   "execution_count": 3,
   "metadata": {},
   "outputs": [],
   "source": [
    "# from sklearn.model_selection import train_test_split\n",
    "\n",
    "# x_train, x_test, y_train, y_test = train_test_split(X,y, test_size = 0.2, random_state=0)\n",
    "\n",
    "# print(x_train.max(),x_train.min())\n",
    "\n",
    "x_train = X\n",
    "y_train = y"
   ]
  },
  {
   "cell_type": "markdown",
   "metadata": {},
   "source": [
    "### Select & Load the model"
   ]
  },
  {
   "cell_type": "code",
   "execution_count": 4,
   "metadata": {},
   "outputs": [],
   "source": [
    "from sklearn.ensemble import AdaBoostClassifier, RandomForestClassifier\n",
    "from sklearn.linear_model import RidgeClassifierCV\n",
    "# 定义多层感知机分类算法\n",
    "# model = MLPClassifier(hidden_layer_sizes=(50,50), max_iter=50000, activation='relu', solver='sgd', alpha=0.00000001, learning_rate_init=.1)\n",
    "model = AdaBoostClassifier(RidgeClassifierCV(), algorithm = \"SAMME\", n_estimators = 10)"
   ]
  },
  {
   "cell_type": "code",
   "execution_count": 5,
   "metadata": {},
   "outputs": [
    {
     "data": {
      "text/plain": [
       "AdaBoostClassifier(algorithm='SAMME',\n",
       "          base_estimator=RidgeClassifierCV(alphas=array([ 0.1,  1. , 10. ]), class_weight=None,\n",
       "         cv=None, fit_intercept=True, normalize=False, scoring=None,\n",
       "         store_cv_values=False),\n",
       "          learning_rate=1.0, n_estimators=10, random_state=None)"
      ]
     },
     "execution_count": 5,
     "metadata": {},
     "output_type": "execute_result"
    }
   ],
   "source": [
    "model.fit(x_train, y_train)"
   ]
  },
  {
   "cell_type": "code",
   "execution_count": 6,
   "metadata": {},
   "outputs": [],
   "source": [
    "# y_pred = model.predict(x_test)\n",
    "\n",
    "# from sklearn.metrics import confusion_matrix\n",
    "\n",
    "# conf_matrix = confusion_matrix(y_test, y_pred)\n",
    "# print(conf_matrix)\n",
    " \n",
    "# plt.imshow(conf_matrix)\n",
    "# plt.title('Visulize')\n",
    "# plt.xlabel('CLASS')\n",
    "# plt.ylabel('Estimated Salary')\n",
    "# plt.show()\n",
    "\n",
    "# from sklearn.metrics import accuracy_score\n",
    "# accuracy = accuracy_score(y_test,y_pred)\n",
    "# accuracy = accuracy*100\n",
    "# print('\\n\\n\\n Hence the accuracy of the Linear Regression after LDA is:',accuracy)\n",
    "# print('\\n\\n Done :)')"
   ]
  },
  {
   "cell_type": "code",
   "execution_count": 7,
   "metadata": {},
   "outputs": [],
   "source": [
    "# from sklearn.model_selection import cross_val_score\n",
    "# cross_val_score(model, X=x_train, y=y_train, scoring='accuracy', cv=10, n_jobs=4)"
   ]
  },
  {
   "cell_type": "code",
   "execution_count": 8,
   "metadata": {},
   "outputs": [
    {
     "name": "stderr",
     "output_type": "stream",
     "text": [
      "100%|██████████| 15600/15600 [00:00<00:00, 1051998.37it/s]\n"
     ]
    },
    {
     "name": "stdout",
     "output_type": "stream",
     "text": [
      "submission generated!\n"
     ]
    }
   ],
   "source": [
    "from test import *\n",
    "get_pred(model, 'SKLearn_Adaboost', 'all/test.csv')"
   ]
  },
  {
   "cell_type": "code",
   "execution_count": null,
   "metadata": {
    "scrolled": true
   },
   "outputs": [],
   "source": []
  },
  {
   "cell_type": "code",
   "execution_count": null,
   "metadata": {},
   "outputs": [],
   "source": []
  }
 ],
 "metadata": {
  "kernelspec": {
   "display_name": "Python [conda env:unet]",
   "language": "python",
   "name": "conda-env-unet-py"
  },
  "language_info": {
   "codemirror_mode": {
    "name": "ipython",
    "version": 3
   },
   "file_extension": ".py",
   "mimetype": "text/x-python",
   "name": "python",
   "nbconvert_exporter": "python",
   "pygments_lexer": "ipython3",
   "version": "3.6.3"
  }
 },
 "nbformat": 4,
 "nbformat_minor": 2
}
